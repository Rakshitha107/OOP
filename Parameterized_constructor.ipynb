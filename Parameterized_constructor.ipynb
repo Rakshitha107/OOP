{
  "nbformat": 4,
  "nbformat_minor": 0,
  "metadata": {
    "colab": {
      "name": "Parameterized constructor.ipynb",
      "provenance": [],
      "authorship_tag": "ABX9TyPEvWb7m4J6YfXbq4zMxkvv",
      "include_colab_link": true
    },
    "kernelspec": {
      "name": "python3",
      "display_name": "Python 3"
    },
    "language_info": {
      "name": "python"
    }
  },
  "cells": [
    {
      "cell_type": "markdown",
      "metadata": {
        "id": "view-in-github",
        "colab_type": "text"
      },
      "source": [
        "<a href=\"https://colab.research.google.com/github/Rakshitha107/Python-Encapsulation/blob/main/Parameterized_constructor.ipynb\" target=\"_parent\"><img src=\"https://colab.research.google.com/assets/colab-badge.svg\" alt=\"Open In Colab\"/></a>"
      ]
    },
    {
      "cell_type": "code",
      "metadata": {
        "colab": {
          "base_uri": "https://localhost:8080/"
        },
        "id": "jK6rk-TOCmBz",
        "outputId": "7e748b58-5c47-4a00-8cab-2956fc13ba14"
      },
      "source": [
        "class Student:\n",
        "    #Constructor\n",
        "    def __init__(self,student_name, student_age):\n",
        "        self.name = student_name\n",
        "        self.age = student_age\n",
        "\n",
        "    #Function to print the details    \n",
        "    def print_student_details(self):\n",
        "        print(self.name + ' => ' + str(self.age))\n",
        "\n",
        "student1 = Student('xyz', 23)\n",
        "student2 = Student('abc', 10)\n",
        "student1.print_student_details()\n",
        "student2.print_student_details()"
      ],
      "execution_count": 3,
      "outputs": [
        {
          "output_type": "stream",
          "name": "stdout",
          "text": [
            "xyz => 23\n",
            "abc => 10\n"
          ]
        }
      ]
    }
  ]
}