{
  "nbformat": 4,
  "nbformat_minor": 0,
  "metadata": {
    "colab": {
      "name": " OOP-Inheritance-Quiz2.ipynb",
      "provenance": [],
      "include_colab_link": true
    },
    "kernelspec": {
      "name": "python3",
      "display_name": "Python 3"
    },
    "language_info": {
      "name": "python"
    }
  },
  "cells": [
    {
      "cell_type": "markdown",
      "metadata": {
        "id": "view-in-github",
        "colab_type": "text"
      },
      "source": [
        "<a href=\"https://colab.research.google.com/github/Rakshitha107/OOP/blob/main/OOP_Inheritance_Quiz2.ipynb\" target=\"_parent\"><img src=\"https://colab.research.google.com/assets/colab-badge.svg\" alt=\"Open In Colab\"/></a>"
      ]
    },
    {
      "cell_type": "code",
      "metadata": {
        "id": "kx8_0STwI5pg",
        "colab": {
          "base_uri": "https://localhost:8080/"
        },
        "outputId": "63744e7f-2f3b-4d10-b354-3c960f5ef054"
      },
      "source": [
        "# Problem 1: Create a Player class\n",
        "class Player:\n",
        "    MAX_POSITION = 10     # Class attribute   \n",
        "    def __init__(self):\n",
        "      self.position = 0 \n",
        "print(Player.MAX_POSITION)    # instance accessing Class attribute\n",
        "# Create a player p and print its MAX_POSITITON\n",
        "p = Player()\n",
        "print(p.MAX_POSITION)  # what is the oputput?"
      ],
      "execution_count": 1,
      "outputs": [
        {
          "output_type": "stream",
          "name": "stdout",
          "text": [
            "10\n",
            "10\n"
          ]
        }
      ]
    },
    {
      "cell_type": "markdown",
      "metadata": {
        "id": "la0RUaeEIMTb"
      },
      "source": [
        "### OOP - Inheritance - **Quiz**\n",
        "### P1 -  what will happen if you try to assign another value to a class attribute when accessing it from an instance?"
      ]
    },
    {
      "cell_type": "code",
      "metadata": {
        "id": "h0OOoK8gIQAH"
      },
      "source": [
        "# Problem 2:\n",
        "# Create Players p1 and p2\n",
        "# Print p1.MAX_SPEED and p2.MAX_SPEED\n",
        "# Assign 7 to p1.MAX_SPEED\n",
        "# Print p1.MAX_SPEED and p2.MAX_SPEED\n",
        "# Print Player.MAX_SPEED"
      ],
      "execution_count": null,
      "outputs": []
    },
    {
      "cell_type": "code",
      "metadata": {
        "colab": {
          "base_uri": "https://localhost:8080/",
          "height": 231
        },
        "id": "28dJmpUYXmjt",
        "outputId": "b6d02e7d-3287-4a77-a4e3-2e7a059de999"
      },
      "source": [
        "## Problem2 :\n",
        "class Player:\n",
        "    MAX_POSITION = 10     # Class attribute   \n",
        "    def __init__(self):\n",
        "      self.position = 0\n",
        "class Racer(Player):\n",
        "    MAX_SPEED = 5      # adding attributes to Child Class\n",
        "p = Player()\n",
        "r = Racer()\n",
        "# What is the output?\n",
        "print(\"p.MAX_SPEED = \", p.MAX_SPEED)                   # error 'player' object has no attribute 'MAX_SPEED'\n",
        "print(\"r.MAX_SPEED = \", r.MAX_SPEED)\n",
        "print(\"p.MAX_POSITION = \", p.MAX_POSITION)\n",
        "print(\"r.MAX_POSITION = \", r.MAX_POSITION)"
      ],
      "execution_count": 4,
      "outputs": [
        {
          "output_type": "error",
          "ename": "AttributeError",
          "evalue": "ignored",
          "traceback": [
            "\u001b[0;31m---------------------------------------------------------------------------\u001b[0m",
            "\u001b[0;31mAttributeError\u001b[0m                            Traceback (most recent call last)",
            "\u001b[0;32m<ipython-input-4-baedcc3310d5>\u001b[0m in \u001b[0;36m<module>\u001b[0;34m()\u001b[0m\n\u001b[1;32m      9\u001b[0m \u001b[0mr\u001b[0m \u001b[0;34m=\u001b[0m \u001b[0mRacer\u001b[0m\u001b[0;34m(\u001b[0m\u001b[0;34m)\u001b[0m\u001b[0;34m\u001b[0m\u001b[0;34m\u001b[0m\u001b[0m\n\u001b[1;32m     10\u001b[0m \u001b[0;31m# What is the output?\u001b[0m\u001b[0;34m\u001b[0m\u001b[0;34m\u001b[0m\u001b[0;34m\u001b[0m\u001b[0m\n\u001b[0;32m---> 11\u001b[0;31m \u001b[0mprint\u001b[0m\u001b[0;34m(\u001b[0m\u001b[0;34m\"p.MAX_SPEED = \"\u001b[0m\u001b[0;34m,\u001b[0m \u001b[0mp\u001b[0m\u001b[0;34m.\u001b[0m\u001b[0mMAX_SPEED\u001b[0m\u001b[0;34m)\u001b[0m\u001b[0;34m\u001b[0m\u001b[0;34m\u001b[0m\u001b[0m\n\u001b[0m\u001b[1;32m     12\u001b[0m \u001b[0mprint\u001b[0m\u001b[0;34m(\u001b[0m\u001b[0;34m\"r.MAX_SPEED = \"\u001b[0m\u001b[0;34m,\u001b[0m \u001b[0mr\u001b[0m\u001b[0;34m.\u001b[0m\u001b[0mMAX_SPEED\u001b[0m\u001b[0;34m)\u001b[0m\u001b[0;34m\u001b[0m\u001b[0;34m\u001b[0m\u001b[0m\n\u001b[1;32m     13\u001b[0m \u001b[0mprint\u001b[0m\u001b[0;34m(\u001b[0m\u001b[0;34m\"p.MAX_POSITION = \"\u001b[0m\u001b[0;34m,\u001b[0m \u001b[0mp\u001b[0m\u001b[0;34m.\u001b[0m\u001b[0mMAX_POSITION\u001b[0m\u001b[0;34m)\u001b[0m\u001b[0;34m\u001b[0m\u001b[0;34m\u001b[0m\u001b[0m\n",
            "\u001b[0;31mAttributeError\u001b[0m: 'Player' object has no attribute 'MAX_SPEED'"
          ]
        }
      ]
    },
    {
      "cell_type": "code",
      "metadata": {
        "colab": {
          "base_uri": "https://localhost:8080/"
        },
        "id": "2eug9ZMOZLZx",
        "outputId": "5a2c468e-51fb-4dfe-812b-a7eb2d7259cb"
      },
      "source": [
        "# Problem 3: making changes in Child class methods\n",
        "class Employee:\n",
        "    def __init__(self, name, salary=30000):\n",
        "        self.name = name\n",
        "        self.salary = salary\n",
        "    def give_raise(self, amount):\n",
        "        self.salary += amount        \n",
        "class Manager(Employee):\n",
        "    def display(self):\n",
        "        print(\"Manager \", self.name)\n",
        "    def __init__(self, name, salary=50000, project=None):\n",
        "        Employee.__init__(self, name, salary)\n",
        "        self.project = project\n",
        "    def give_raise(self, amount, bonus=1.05): # Add a give_raise method\n",
        "        new_amount = amount * bonus\n",
        "        Employee.give_raise(self, new_amount)  # what is the diff?\n",
        "mngr = Manager(\"Ram\", 78500)\n",
        "mngr.give_raise(1000)\n",
        "print(mngr.salary)   # what is the output?\n",
        "mngr.give_raise(2000, bonus=1.03)\n",
        "print(mngr.salary)"
      ],
      "execution_count": 5,
      "outputs": [
        {
          "output_type": "stream",
          "name": "stdout",
          "text": [
            "79550.0\n",
            "81610.0\n"
          ]
        }
      ]
    },
    {
      "cell_type": "markdown",
      "metadata": {
        "id": "I02uCDC6LUXZ"
      },
      "source": [
        "### Alternative constructors\n",
        "* Python allows  to define class methods as well, using the @classmethod decorator and a special first argument cls. \n",
        "* The main use of class methods is defining methods that return an instance of the class, but aren't using the same code as __init__().\n",
        "Example : \n",
        "* we are  defining  own class for working with dates, BetterDate. The attributes of the class will be year, month, and day. \n",
        "* We want to create another  constructor that creates BetterDate objects given the values for year, month, and day, but you also want to be able to create BetterDate objects from strings like 2020-04-30"
      ]
    },
    {
      "cell_type": "code",
      "metadata": {
        "colab": {
          "base_uri": "https://localhost:8080/"
        },
        "id": "kgcTkrRLMAOS",
        "outputId": "5f8d9265-2708-4218-a501-e94eca07ce11"
      },
      "source": [
        "# Problem 4: Alternative Constructor \n",
        "class MyDate:\n",
        "    def __init__(self, year, month, day):     # Constructor\n",
        "      # Python allows multiple variable assignments in one line\n",
        "      self.year, self.month, self.day = year, month, day    \n",
        "    # Define a class method from_str\n",
        "    @classmethod\n",
        "    def from_str(cls, datestr):\n",
        "    # Split the string at \"-\" and  convert each part to integer\n",
        "        parts = datestr.split(\"-\")\n",
        "        year, month, day = int(parts[0]), int(parts[1]), int(parts[2])\n",
        "        return cls(year, month, day)       # Return the class instance  \n",
        "bd = MyDate.from_str('2021-09-08')   \n",
        "print(bd.year)\n",
        "print(bd.month)\n",
        "print(bd.day)"
      ],
      "execution_count": 6,
      "outputs": [
        {
          "output_type": "stream",
          "name": "stdout",
          "text": [
            "2021\n",
            "9\n",
            "8\n"
          ]
        }
      ]
    },
    {
      "cell_type": "code",
      "metadata": {
        "id": "nYTswZ10Nsp7",
        "colab": {
          "base_uri": "https://localhost:8080/"
        },
        "outputId": "19dfc69d-3af0-4253-a2fa-071a1db43b13"
      },
      "source": [
        "## Problem 5 : Define a subclass \n",
        "class Employee:\n",
        "  MIN_SALARY = 30000    \n",
        "  def __init__(self, name, salary=MIN_SALARY):\n",
        "      self.name = name\n",
        "      if salary >= Employee.MIN_SALARY:\n",
        "        self.salary = salary\n",
        "      else:\n",
        "        self.salary = Employee.MIN_SALARY\n",
        "  def give_raise(self, amount):\n",
        "      self.salary += amount        \n",
        "# Define a new class Manager inheriting from Employee\n",
        "class Manager(Employee):\n",
        "  pass\n",
        "# Define a Manager object or child class \n",
        "mng = Manager(\"ain\", 20000)\n",
        "# Print mng's name\n",
        "print(mng.name)"
      ],
      "execution_count": 10,
      "outputs": [
        {
          "output_type": "stream",
          "name": "stdout",
          "text": [
            "ain\n"
          ]
        }
      ]
    },
    {
      "cell_type": "markdown",
      "metadata": {
        "id": "yPlYTxmhOyQB"
      },
      "source": [
        "### Method inheritance"
      ]
    },
    {
      "cell_type": "code",
      "metadata": {
        "id": "jdLifzmVPRVn",
        "colab": {
          "base_uri": "https://localhost:8080/"
        },
        "outputId": "8b6e859f-f762-4d99-f66b-064937cec8a0"
      },
      "source": [
        "class Employee:\n",
        "    def __init__(self, name, salary=30000):\n",
        "        self.name = name\n",
        "        self.salary = salary\n",
        "    def give_raise(self, amount):\n",
        "        self.salary += amount       \n",
        "class Manager(Employee):\n",
        "  # Add a constructor \n",
        "    def __init__(self, name, salary=50000, project=None):\n",
        "        Employee.__init__(self, name, salary) # Call the parent's constructor \n",
        "        self.project = project      # Assign project attribute\n",
        "    def display(self):\n",
        "        print(\"Manager \", self.name)\n",
        "\n",
        "m1 = Manager(\"john\",14357,\"Full stack development\")\n",
        "m1.display()\n",
        "  "
      ],
      "execution_count": 13,
      "outputs": [
        {
          "output_type": "stream",
          "name": "stdout",
          "text": [
            "Manager  john\n"
          ]
        }
      ]
    }
  ]
}